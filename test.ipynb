{
 "cells": [
  {
   "cell_type": "code",
   "execution_count": 17,
   "metadata": {},
   "outputs": [],
   "source": [
    "from HW3.kmeans_template import *\n",
    "%autoreload "
   ]
  },
  {
   "cell_type": "code",
   "execution_count": 5,
   "metadata": {},
   "outputs": [],
   "source": [
    "data_filename = 'HW3/Iris.csv'\n",
    "centroid_filename = 'HW3/Iris_Initial_Centroids.csv'\n",
    "k = 3\n"
   ]
  },
  {
   "cell_type": "code",
   "execution_count": 19,
   "metadata": {},
   "outputs": [],
   "source": [
    "from HW1.pca_template import *"
   ]
  },
  {
   "cell_type": "code",
   "execution_count": 20,
   "metadata": {},
   "outputs": [
    {
     "data": {
      "image/png": "[encoded data removed]",
      "text/plain": [
       "<Figure size 640x480 with 1 Axes>"
      ]
     },
     "metadata": {},
     "output_type": "display_data"
    }
   ],
   "source": [
    "filename = 'HW3\\Iris_kmeans_cluster.csv'\n",
    "figname = filename\n",
    "figname = figname.replace('csv','jpg')\n",
    "dataMat, labelMat = loadDataSet(filename)\n",
    "lowDDataMat = pca(dataMat)\n",
    "plot(lowDDataMat, labelMat, figname)"
   ]
  },
  {
   "cell_type": "code",
   "execution_count": 1,
   "metadata": {},
   "outputs": [],
   "source": [
    "from HW3.Hierarchical_template import *\n",
    "%load_ext autoreload\n",
    "%autoreload 2"
   ]
  },
  {
   "cell_type": "code",
   "execution_count": 11,
   "metadata": {},
   "outputs": [],
   "source": [
    "data_filename = 'HW3/Example.csv'\n",
    "cluster_number = 1\n",
    "data = loadDataSet(data_filename)"
   ]
  },
  {
   "cell_type": "code",
   "execution_count": 12,
   "metadata": {},
   "outputs": [
    {
     "data": {
      "text/plain": [
       "array([[ 0.88845,  0.96682,  0.93679,  0.81723,  0.88242],\n",
       "       [ 0.86257,  0.85462,  0.86419,  0.84451,  0.86159],\n",
       "       [ 0.9402 ,  0.91072,  0.93074,  0.93317,  0.94034],\n",
       "       [-1.1451 , -0.90137, -1.0215 , -1.2628 , -1.1573 ],\n",
       "       [-0.96824, -0.82282, -0.89646, -1.0309 , -0.97505],\n",
       "       [-0.57792, -1.008  , -0.81377, -0.3012 , -0.55201]])"
      ]
     },
     "execution_count": 12,
     "metadata": {},
     "output_type": "execute_result"
    }
   ],
   "source": [
    "data"
   ]
  },
  {
   "cell_type": "code",
   "execution_count": 13,
   "metadata": {},
   "outputs": [],
   "source": [
    "cluster_candidate = {}\n",
    "N = len(data)\n",
    "# initialize cluster, each sample is a single cluster at the beginning\n",
    "for i in range(N):\n",
    "    cluster_candidate[i+1] = [i]  #key: cluser id; value: point ids in the cluster\n",
    "\n",
    "# initialize distance matrix\n",
    "distance_matrix = np.zeros((N,N))\n",
    "for i in range(N):\n",
    "    for j in range(N):\n",
    "        if j == i: # or j<=i\n",
    "            distance_matrix[i,j] = 100000\n",
    "        else:\n",
    "            distance_matrix[i,j] = np.sqrt(np.sum((data[i]-data[j])**2))"
   ]
  },
  {
   "cell_type": "code",
   "execution_count": 14,
   "metadata": {},
   "outputs": [
    {
     "data": {
      "text/plain": [
       "(6, 6)"
      ]
     },
     "execution_count": 14,
     "metadata": {},
     "output_type": "execute_result"
    }
   ],
   "source": [
    "distance_matrix.shape"
   ]
  },
  {
   "cell_type": "code",
   "execution_count": 15,
   "metadata": {},
   "outputs": [
    {
     "data": {
      "text/plain": [
       "array([[1.00000000e+05, 1.40383267e-01, 1.50528021e-01, 4.46624470e+00,\n",
       "        4.10812536e+00, 3.52464047e+00],\n",
       "       [1.40383267e-01, 1.00000000e+05, 1.66327050e-01, 4.38026697e+00,\n",
       "        4.01944869e+00, 3.41625977e+00],\n",
       "       [1.50528021e-01, 1.66327050e-01, 1.00000000e+05, 4.54596140e+00,\n",
       "        4.18476449e+00, 3.57495003e+00],\n",
       "       [4.46624470e+00, 4.38026697e+00, 4.54596140e+00, 1.00000000e+05,\n",
       "        3.74268936e-01, 1.29122632e+00],\n",
       "       [4.10812536e+00, 4.01944869e+00, 4.18476449e+00, 3.74268936e-01,\n",
       "        1.00000000e+05, 9.51264370e-01],\n",
       "       [3.52464047e+00, 3.41625977e+00, 3.57495003e+00, 1.29122632e+00,\n",
       "        9.51264370e-01, 1.00000000e+05]])"
      ]
     },
     "execution_count": 15,
     "metadata": {},
     "output_type": "execute_result"
    }
   ],
   "source": [
    "distance_matrix"
   ]
  },
  {
   "cell_type": "code",
   "execution_count": 16,
   "metadata": {},
   "outputs": [
    {
     "name": "stdout",
     "output_type": "stream",
     "text": [
      "(0,0) -> True\n",
      "(0,1) -> True\n",
      "(0,2) -> True\n",
      "(0,3) -> True\n",
      "(0,4) -> True\n",
      "(0,5) -> True\n",
      "(1,0) -> True\n",
      "(1,1) -> True\n",
      "(1,2) -> True\n",
      "(1,3) -> True\n",
      "(1,4) -> True\n",
      "(1,5) -> True\n",
      "(2,0) -> True\n",
      "(2,1) -> True\n",
      "(2,2) -> True\n",
      "(2,3) -> True\n",
      "(2,4) -> True\n",
      "(2,5) -> True\n",
      "(3,0) -> True\n",
      "(3,1) -> True\n",
      "(3,2) -> True\n",
      "(3,3) -> True\n",
      "(3,4) -> True\n",
      "(3,5) -> True\n",
      "(4,0) -> True\n",
      "(4,1) -> True\n",
      "(4,2) -> True\n",
      "(4,3) -> True\n",
      "(4,4) -> True\n",
      "(4,5) -> True\n",
      "(5,0) -> True\n",
      "(5,1) -> True\n",
      "(5,2) -> True\n",
      "(5,3) -> True\n",
      "(5,4) -> True\n",
      "(5,5) -> True\n"
     ]
    }
   ],
   "source": [
    "for i in range(6):\n",
    "    for j in range(6):\n",
    "        print(f\"({i},{j}) -> {(distance_matrix[i][j]==distance_matrix[j][i])}\")"
   ]
  },
  {
   "cell_type": "code",
   "execution_count": 7,
   "metadata": {},
   "outputs": [
    {
     "data": {
      "text/plain": [
       "{1: [0], 2: [1], 3: [2], 4: [3], 5: [4], 6: [5]}"
      ]
     },
     "execution_count": 7,
     "metadata": {},
     "output_type": "execute_result"
    }
   ],
   "source": [
    "cluster_candidate"
   ]
  },
  {
   "cell_type": "code",
   "execution_count": 8,
   "metadata": {},
   "outputs": [],
   "source": [
    "T = N + 1 #cluster index"
   ]
  },
  {
   "cell_type": "code",
   "execution_count": 10,
   "metadata": {},
   "outputs": [
    {
     "ename": "KeyError",
     "evalue": "7",
     "output_type": "error",
     "traceback": [
      "\u001b[1;31m---------------------------------------------------------------------------\u001b[0m",
      "\u001b[1;31mKeyError\u001b[0m                                  Traceback (most recent call last)",
      "\u001b[1;32md:\\Purdue documents\\ECE 59500 IDM\\Homeworks\\test.ipynb Cell 13\u001b[0m line \u001b[0;36m1\n\u001b[1;32m----> <a href='vscode-notebook-cell:/d%3A/Purdue%20documents/ECE%2059500%20IDM/Homeworks/test.ipynb#X32sZmlsZQ%3D%3D?line=0'>1</a>\u001b[0m cluster_candidate, merge_list \u001b[39m=\u001b[39m merge_cluster(distance_matrix, cluster_candidate, T)\n",
      "File \u001b[1;32md:\\Purdue documents\\ECE 59500 IDM\\Homeworks\\HW3\\Hierarchical_template.py:61\u001b[0m, in \u001b[0;36mmerge_cluster\u001b[1;34m(distance_matrix, cluster_candidate, T)\u001b[0m\n\u001b[0;32m     58\u001b[0m         k_j \u001b[39m=\u001b[39m k\n\u001b[0;32m     60\u001b[0m \u001b[39mdel\u001b[39;00m cluster_candidate[k_i] \u001b[39m#removing the original clusters \u001b[39;00m\n\u001b[1;32m---> 61\u001b[0m \u001b[39mdel\u001b[39;00m cluster_candidate[k_j]\n\u001b[0;32m     62\u001b[0m merge_list\u001b[39m.\u001b[39mappend([(k_i , cluster_i)])\n\u001b[0;32m     63\u001b[0m merge_list\u001b[39m.\u001b[39mappend([(k_j , cluster_j)])\n",
      "\u001b[1;31mKeyError\u001b[0m: 7"
     ]
    }
   ],
   "source": [
    "cluster_candidate, merge_list = merge_cluster(distance_matrix, cluster_candidate, T)"
   ]
  },
  {
   "cell_type": "code",
   "execution_count": null,
   "metadata": {},
   "outputs": [],
   "source": []
  }
 ],
 "metadata": {
  "kernelspec": {
   "display_name": ".vnev",
   "language": "python",
   "name": "python3"
  },
  "language_info": {
   "codemirror_mode": {
    "name": "ipython",
    "version": 3
   },
   "file_extension": ".py",
   "mimetype": "text/x-python",
   "name": "python",
   "nbconvert_exporter": "python",
   "pygments_lexer": "ipython3",
   "version": "3.8.8"
  }
 },
 "nbformat": 4,
 "nbformat_minor": 2
}
