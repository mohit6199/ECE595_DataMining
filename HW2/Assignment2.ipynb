{
 "cells": [
  {
   "cell_type": "markdown",
   "metadata": {},
   "source": [
    "# ECE 59500 : Assignment 2: Association Analysis"
   ]
  },
  {
   "cell_type": "code",
   "execution_count": 1,
   "metadata": {},
   "outputs": [],
   "source": [
    "from apriori_templete import *"
   ]
  },
  {
   "cell_type": "code",
   "execution_count": 2,
   "metadata": {},
   "outputs": [],
   "source": [
    "data_path = \"gene_data_transaction.txt\"\n",
    "min_support = 0.5\n",
    "F, support = run_apriori(data_path, min_support, verbose=False)"
   ]
  },
  {
   "cell_type": "markdown",
   "metadata": {},
   "source": [
    "## The frequent itemsets on Gene dataset (L1, L2, L3)"
   ]
  },
  {
   "cell_type": "code",
   "execution_count": 3,
   "metadata": {},
   "outputs": [
    {
     "name": "stdout",
     "output_type": "stream",
     "text": [
      "Length of each frequent itemset\n",
      "L1 = 51\n",
      "L2 = 29\n",
      "L3 = 2\n"
     ]
    }
   ],
   "source": [
    "print(\"Length of each frequent itemset\")\n",
    "for i in range(3):\n",
    "    print(f\"L{i+1} = {len(F[i])}\")"
   ]
  },
  {
   "cell_type": "markdown",
   "metadata": {},
   "source": [
    "### L1"
   ]
  },
  {
   "cell_type": "code",
   "execution_count": 4,
   "metadata": {},
   "outputs": [
    {
     "data": {
      "text/plain": [
       "[frozenset({'gene_1'}),\n",
       " frozenset({'gene_12'}),\n",
       " frozenset({'gene_17'}),\n",
       " frozenset({'gene_21'}),\n",
       " frozenset({'gene_22'}),\n",
       " frozenset({'gene_23'}),\n",
       " frozenset({'gene_3'}),\n",
       " frozenset({'gene_39'}),\n",
       " frozenset({'gene_4'}),\n",
       " frozenset({'gene_45'}),\n",
       " frozenset({'gene_48'}),\n",
       " frozenset({'gene_55'}),\n",
       " frozenset({'gene_59'}),\n",
       " frozenset({'gene_6'}),\n",
       " frozenset({'gene_63'}),\n",
       " frozenset({'gene_66'}),\n",
       " frozenset({'gene_72'}),\n",
       " frozenset({'gene_77'}),\n",
       " frozenset({'gene_83'}),\n",
       " frozenset({'gene_84'}),\n",
       " frozenset({'gene_93'}),\n",
       " frozenset({'gene_99'}),\n",
       " frozenset({'gene_14'}),\n",
       " frozenset({'gene_26'}),\n",
       " frozenset({'gene_27'}),\n",
       " frozenset({'gene_36'}),\n",
       " frozenset({'gene_37'}),\n",
       " frozenset({'gene_47'}),\n",
       " frozenset({'gene_5'}),\n",
       " frozenset({'gene_50'}),\n",
       " frozenset({'gene_54'}),\n",
       " frozenset({'gene_56'}),\n",
       " frozenset({'gene_60'}),\n",
       " frozenset({'gene_75'}),\n",
       " frozenset({'gene_78'}),\n",
       " frozenset({'gene_81'}),\n",
       " frozenset({'gene_87'}),\n",
       " frozenset({'gene_89'}),\n",
       " frozenset({'gene_25'}),\n",
       " frozenset({'gene_43'}),\n",
       " frozenset({'gene_53'}),\n",
       " frozenset({'gene_71'}),\n",
       " frozenset({'gene_8'}),\n",
       " frozenset({'gene_9'}),\n",
       " frozenset({'gene_90'}),\n",
       " frozenset({'gene_91'}),\n",
       " frozenset({'gene_98'}),\n",
       " frozenset({'gene_31'}),\n",
       " frozenset({'gene_94'}),\n",
       " frozenset({'gene_64'}),\n",
       " frozenset({'gene_67'})]"
      ]
     },
     "execution_count": 4,
     "metadata": {},
     "output_type": "execute_result"
    }
   ],
   "source": [
    "F[0]"
   ]
  },
  {
   "cell_type": "markdown",
   "metadata": {},
   "source": [
    "### L2"
   ]
  },
  {
   "cell_type": "code",
   "execution_count": 5,
   "metadata": {},
   "outputs": [
    {
     "data": {
      "text/plain": [
       "[frozenset({'gene_1', 'gene_84'}),\n",
       " frozenset({'gene_1', 'gene_6'}),\n",
       " frozenset({'gene_3', 'gene_72'}),\n",
       " frozenset({'gene_59', 'gene_6'}),\n",
       " frozenset({'gene_1', 'gene_72'}),\n",
       " frozenset({'gene_1', 'gene_3'}),\n",
       " frozenset({'gene_1', 'gene_59'}),\n",
       " frozenset({'gene_59', 'gene_72'}),\n",
       " frozenset({'gene_1', 'gene_21'}),\n",
       " frozenset({'gene_3', 'gene_59'}),\n",
       " frozenset({'gene_1', 'gene_5'}),\n",
       " frozenset({'gene_5', 'gene_72'}),\n",
       " frozenset({'gene_3', 'gene_47'}),\n",
       " frozenset({'gene_1', 'gene_54'}),\n",
       " frozenset({'gene_5', 'gene_59'}),\n",
       " frozenset({'gene_5', 'gene_87'}),\n",
       " frozenset({'gene_1', 'gene_89'}),\n",
       " frozenset({'gene_1', 'gene_47'}),\n",
       " frozenset({'gene_1', 'gene_81'}),\n",
       " frozenset({'gene_59', 'gene_87'}),\n",
       " frozenset({'gene_3', 'gene_5'}),\n",
       " frozenset({'gene_47', 'gene_5'}),\n",
       " frozenset({'gene_1', 'gene_87'}),\n",
       " frozenset({'gene_5', 'gene_6'}),\n",
       " frozenset({'gene_1', 'gene_8'}),\n",
       " frozenset({'gene_5', 'gene_91'}),\n",
       " frozenset({'gene_1', 'gene_91'}),\n",
       " frozenset({'gene_1', 'gene_67'}),\n",
       " frozenset({'gene_1', 'gene_94'})]"
      ]
     },
     "execution_count": 5,
     "metadata": {},
     "output_type": "execute_result"
    }
   ],
   "source": [
    "F[1]"
   ]
  },
  {
   "cell_type": "markdown",
   "metadata": {},
   "source": [
    "### L3"
   ]
  },
  {
   "cell_type": "code",
   "execution_count": 6,
   "metadata": {},
   "outputs": [
    {
     "data": {
      "text/plain": [
       "[frozenset({'gene_1', 'gene_59', 'gene_72'}),\n",
       " frozenset({'gene_1', 'gene_3', 'gene_5'})]"
      ]
     },
     "execution_count": 6,
     "metadata": {},
     "output_type": "execute_result"
    }
   ],
   "source": [
    "F[2]"
   ]
  },
  {
   "cell_type": "markdown",
   "metadata": {},
   "source": [
    "## The length-3 candidate itemsets generated during Apriori (C3) on Gene dataset"
   ]
  },
  {
   "cell_type": "code",
   "execution_count": 7,
   "metadata": {},
   "outputs": [],
   "source": [
    "dataset = loadDataSet(data_path)\n",
    "_ , _ , candidates =  apriori(dataset, min_support=min_support,verbose=False , get_candidate=True)"
   ]
  },
  {
   "cell_type": "code",
   "execution_count": 8,
   "metadata": {},
   "outputs": [
    {
     "data": {
      "text/plain": [
       "{frozenset({'gene_5', 'gene_59', 'gene_6'}),\n",
       " frozenset({'gene_3', 'gene_5', 'gene_59'}),\n",
       " frozenset({'gene_1', 'gene_47', 'gene_5'}),\n",
       " frozenset({'gene_1', 'gene_59', 'gene_6'}),\n",
       " frozenset({'gene_1', 'gene_5', 'gene_72'}),\n",
       " frozenset({'gene_1', 'gene_3', 'gene_59'}),\n",
       " frozenset({'gene_1', 'gene_5', 'gene_59'}),\n",
       " frozenset({'gene_1', 'gene_3', 'gene_5'}),\n",
       " frozenset({'gene_3', 'gene_59', 'gene_72'}),\n",
       " frozenset({'gene_1', 'gene_59', 'gene_72'}),\n",
       " frozenset({'gene_1', 'gene_5', 'gene_6'}),\n",
       " frozenset({'gene_1', 'gene_5', 'gene_91'}),\n",
       " frozenset({'gene_5', 'gene_59', 'gene_87'}),\n",
       " frozenset({'gene_3', 'gene_5', 'gene_72'}),\n",
       " frozenset({'gene_5', 'gene_59', 'gene_72'}),\n",
       " frozenset({'gene_1', 'gene_3', 'gene_47'}),\n",
       " frozenset({'gene_1', 'gene_5', 'gene_87'}),\n",
       " frozenset({'gene_1', 'gene_59', 'gene_87'}),\n",
       " frozenset({'gene_1', 'gene_3', 'gene_72'}),\n",
       " frozenset({'gene_3', 'gene_47', 'gene_5'})}"
      ]
     },
     "execution_count": 8,
     "metadata": {},
     "output_type": "execute_result"
    }
   ],
   "source": [
    "candidates[2]"
   ]
  },
  {
   "cell_type": "markdown",
   "metadata": {},
   "source": [
    "## Codes of the two functions: apriori_gen and get_freq."
   ]
  },
  {
   "cell_type": "code",
   "execution_count": null,
   "metadata": {},
   "outputs": [],
   "source": [
    "def get_freq(dataset, candidates, min_support, verbose=False):\n",
    "    \"\"\"\n",
    "\n",
    "    This function separates the candidates itemsets into frequent itemset and infrequent itemsets based on the min_support,\n",
    "\tand returns all candidate itemsets that meet a minimum support threshold.\n",
    "\n",
    "    Parameters\n",
    "    ----------\n",
    "    dataset : list\n",
    "        The dataset (a list of transactions) from which to generate candidate\n",
    "        itemsets.\n",
    "\n",
    "    candidates : frozenset\n",
    "        The list of candidate itemsets.\n",
    "\n",
    "    min_support : float\n",
    "        The minimum support threshold.\n",
    "\n",
    "    Returns\n",
    "    -------\n",
    "    freq_list : list\n",
    "        The list of frequent itemsets.\n",
    "\n",
    "    support_data : dict\n",
    "        The support data for all candidate itemsets.\n",
    "    \"\"\"\n",
    "\n",
    "    # Count the support for each candidate itemset\n",
    "    freq_data = {} #itemset -> freq\n",
    "    total_transactions = len(dataset)\n",
    "    for transaction in dataset:\n",
    "        for candidate in candidates:\n",
    "            if candidate.issubset(transaction):\n",
    "                #candidate_str = \" \".join(candidate)\n",
    "                if candidate not in freq_data:\n",
    "                    freq_data[candidate] = 1\n",
    "                else:\n",
    "                    freq_data[candidate] += 1\n",
    "    freq_list = []\n",
    "    support_data = {}\n",
    "    for itemset, freq in freq_data.items():\n",
    "        support_data[itemset] = freq/total_transactions\n",
    "        if support_data[itemset]>=min_support:\n",
    "            freq_list.append(itemset)\n",
    "\n",
    "    if verbose:\n",
    "        for itemset in freq_list:\n",
    "            freq = freq_data[itemset]\n",
    "            print(f\"Itemset: {list(itemset)}, Support: {freq} / {total_transactions} = {freq / total_transactions:.2f}\")\n",
    "\n",
    "    return freq_list, support_data  \n",
    "\n",
    "def apriori_gen(freq_sets, k):\n",
    "    \"\"\"Generates candidate itemsets (via the F_k-1 x F_k-1 method).\n",
    "\n",
    "    This part generates new candidate k-itemsets based on the frequent\n",
    "    (k-1)-itemsets found in the previous iteration.\n",
    "\n",
    "    The apriori_gen function performs two operations:\n",
    "    (1) Generate length k candidate itemsets from length k-1 frequent itemsets\n",
    "    (2) Prune candidate itemsets containing subsets of length k-1 that are infrequent\n",
    "\n",
    "    Parameters\n",
    "    ----------\n",
    "    freq_sets : list\n",
    "        The list of frequent (k-1)-itemsets.\n",
    "\n",
    "    k : integer\n",
    "        The cardinality of the current itemsets being evaluated.\n",
    "\n",
    "    Returns\n",
    "    -------\n",
    "    candidate_list : list\n",
    "        The list of candidate itemsets.\n",
    "    \"\"\"\n",
    "    # TODO\n",
    "    #print(freq_sets)\n",
    "    candidateSet = set([i.union(j) for i in freq_sets for j in freq_sets if len(i.union(j)) == k])\n",
    "    #print(candidateSet)\n",
    "    candidateSet_copy = candidateSet.copy()\n",
    "    for item in candidateSet:\n",
    "        subsets = combinations(item, k-1)\n",
    "        #print(str(subsets))\n",
    "        for subset in subsets:\n",
    "            if(frozenset(subset) not in freq_sets):\n",
    "                candidateSet_copy.remove(item)\n",
    "                break\n",
    "    \n",
    "    return candidateSet_copy"
   ]
  }
 ],
 "metadata": {
  "kernelspec": {
   "display_name": ".vnev",
   "language": "python",
   "name": "python3"
  },
  "language_info": {
   "codemirror_mode": {
    "name": "ipython",
    "version": 3
   },
   "file_extension": ".py",
   "mimetype": "text/x-python",
   "name": "python",
   "nbconvert_exporter": "python",
   "pygments_lexer": "ipython3",
   "version": "3.8.8"
  }
 },
 "nbformat": 4,
 "nbformat_minor": 2
}
